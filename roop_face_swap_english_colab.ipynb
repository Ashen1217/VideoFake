{
  "nbformat": 4,
  "nbformat_minor": 0,
  "metadata": {
    "colab": {
      "provenance": [],
      "machine_shape": "hm",
      "gpuType": "T4"
    },
    "kernelspec": {
      "name": "python3",
      "display_name": "Python 3"
    },
    "language_info": {
      "name": "python"
    },
    "accelerator": "GPU"
  },
  "cells": [
    {
      "cell_type": "markdown",
      "source": [
        "##Roop Colab (English edition by NeuroModern)\n",
        "Based on [roop by s0mad3v](https://github.com/s0md3v/roop) and [dream80 colab](https://github.com/dream80/roop_colab/)  \n",
        "\n",
        "Please follow me on the twitter: [twitter.com/neuromodern](https://twitter.com/neuromodern)\n"
      ],
      "metadata": {
        "id": "glwNVbldZ1Id"
      }
    },
    {
      "cell_type": "code",
      "execution_count": null,
      "metadata": {
        "id": "ZqdQ95WTKCSQ"
      },
      "outputs": [],
      "source": [
        "#@title 1. Install repositories\n",
        "!git clone https://github.com/s0md3v/roop.git\n",
        "!git clone https://github.com/neuromodern/roop_face_swap_english_colab.git\n"
      ]
    },
    {
      "cell_type": "code",
      "source": [
        "#@title 2. Check project\n",
        "%cd /content/roop\n",
        "\n",
        "Version = \"v1.1.0\" #@param [\"v1.0.1\",\"v1.1.0\"]\n",
        "\n",
        "vdict = {\n",
        "    \"v1.0.1\": \"773ce17897cd6507d1ac17132ccc64ff6b6f26cb\",\n",
        "    \"v1.1.0\": \"3d02b267663e4badc5c7936d5295effcae3dfbc0\",\n",
        "}\n",
        "\n",
        "commit=vdict.get(Version, \"Invalid Version\")\n",
        "\n",
        "vcmd= f\"checkout {commit}\"\n",
        "\n",
        "\n",
        "!git $vcmd  #check v1.0.1 version 20230622"
      ],
      "metadata": {
        "id": "FnSwYDX5K1P2"
      },
      "execution_count": null,
      "outputs": []
    },
    {
      "cell_type": "code",
      "source": [
        "#@title 3. Install requirements\n",
        "\n",
        "!pip install -r requirements.txt\n",
        "\n",
        "#!pip install onnxruntime-gpu==1.15.0"
      ],
      "metadata": {
        "id": "f6urrvLGKqcU"
      },
      "execution_count": null,
      "outputs": []
    },
    {
      "cell_type": "code",
      "source": [
        "#@title 4. Set up video and face sources\n",
        "source = \"/content/roop_face_swap_english_colab/face.jpg\" #@param {type:\"string\"}\n",
        "target = \"/content/roop_face_swap_english_colab/input_video.mp4\" #@param {type:\"string\"}\n",
        "output = \"/content/roop_face_swap_english_colab/out.mp4\" #@param {type:\"string\"}"
      ],
      "metadata": {
        "id": "JXUkjpNpz2pc"
      },
      "execution_count": null,
      "outputs": []
    },
    {
      "cell_type": "markdown",
      "source": [],
      "metadata": {
        "id": "vW_Ovjjq8Qv8"
      }
    },
    {
      "cell_type": "code",
      "source": [
        "#@title 5. Run\n",
        "\n",
        "Device = \"cuda\" #@param [\"cuda\", \"cpu\"]\n",
        "\n",
        "Processor = \"face_swapper\" #@param [\"face_swapper face_enhancer\", \"face_swapper\",\"face_enhancer\"]\n",
        "\n",
        "VideoEncoder = \"libx264\" #@param [\"libx264\", \"libx265\",\"ibvpx-vp9\"]\n",
        "\n",
        "VideoQuality = \"18\" #@param {type:\"string\"}\n",
        "\n",
        "KeepFPS = True #@param {type:\"boolean\"}\n",
        "KeepAudio = True #@param {type:\"boolean\"}\n",
        "KeepFrames = False #@param {type:\"boolean\"}\n",
        "ManyFaces = False #@param {type:\"boolean\"}\n",
        "\n",
        "KeepFPS =\"--keep-fps\" if KeepFPS==True else \"\"\n",
        "KeepAudio =\"--keep-audio\" if KeepAudio==True else \"\"\n",
        "KeepFrames =\"--keep-frames\" if KeepFrames==True else \"\"\n",
        "ManyFaces =\"--many-faces\" if ManyFaces==True else \"\"\n",
        "\n",
        "cmd = f\"run.py --execution-provider {Device} -s {source} -t {target} -o {output} --frame-processor {Processor} --video-encoder {VideoEncoder} --video-quality {VideoQuality} {KeepFPS} {KeepAudio} {KeepFrames} {ManyFaces}\"\n",
        "print(\"cmd:\"+cmd)\n",
        "!python $cmd\n"
      ],
      "metadata": {
        "id": "cMJi9bI3LUyX"
      },
      "execution_count": null,
      "outputs": []
    },
    {
      "cell_type": "markdown",
      "source": [
        "#Extra\n",
        "\n",
        "##Lift the NSFW seal\n",
        "Not much to say, all the hints are here\n",
        "MAX_PROBABILITY = 1\n"
      ],
      "metadata": {
        "id": "P_cIVG84cTX3"
      }
    }
  ]
}